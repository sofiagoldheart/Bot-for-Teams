{
  "nbformat": 4,
  "nbformat_minor": 0,
  "metadata": {
    "colab": {
      "provenance": [],
      "authorship_tag": "ABX9TyOGkv5/e7KssivX2/2UI/Om",
      "include_colab_link": true
    },
    "kernelspec": {
      "name": "python3",
      "display_name": "Python 3"
    },
    "language_info": {
      "name": "python"
    }
  },
  "cells": [
    {
      "cell_type": "markdown",
      "metadata": {
        "id": "view-in-github",
        "colab_type": "text"
      },
      "source": [
        "<a href=\"https://colab.research.google.com/github/sofiagoldheart/Bot-for-Teams/blob/main/Dates.ipynb\" target=\"_parent\"><img src=\"https://colab.research.google.com/assets/colab-badge.svg\" alt=\"Open In Colab\"/></a>"
      ]
    },
    {
      "cell_type": "code",
      "source": [
        "pip install datetime"
      ],
      "metadata": {
        "colab": {
          "base_uri": "https://localhost:8080/"
        },
        "id": "YRaRlwzZw_kF",
        "outputId": "2e179209-ac14-4eab-e98c-3f7e9774f59b"
      },
      "execution_count": null,
      "outputs": [
        {
          "output_type": "stream",
          "name": "stdout",
          "text": [
            "Collecting datetime\n",
            "  Downloading DateTime-5.2-py3-none-any.whl (52 kB)\n",
            "\u001b[2K     \u001b[90m━━━━━━━━━━━━━━━━━━━━━━━━━━━━━━━━━━━━━━━━\u001b[0m \u001b[32m52.2/52.2 kB\u001b[0m \u001b[31m1.4 MB/s\u001b[0m eta \u001b[36m0:00:00\u001b[0m\n",
            "\u001b[?25hCollecting zope.interface (from datetime)\n",
            "  Downloading zope.interface-6.1-cp310-cp310-manylinux_2_5_x86_64.manylinux1_x86_64.manylinux_2_17_x86_64.manylinux2014_x86_64.whl (247 kB)\n",
            "\u001b[2K     \u001b[90m━━━━━━━━━━━━━━━━━━━━━━━━━━━━━━━━━━━━━━━━\u001b[0m \u001b[32m247.1/247.1 kB\u001b[0m \u001b[31m7.3 MB/s\u001b[0m eta \u001b[36m0:00:00\u001b[0m\n",
            "\u001b[?25hRequirement already satisfied: pytz in /usr/local/lib/python3.10/dist-packages (from datetime) (2023.3.post1)\n",
            "Requirement already satisfied: setuptools in /usr/local/lib/python3.10/dist-packages (from zope.interface->datetime) (67.7.2)\n",
            "Installing collected packages: zope.interface, datetime\n",
            "Successfully installed datetime-5.2 zope.interface-6.1\n"
          ]
        }
      ]
    },
    {
      "cell_type": "code",
      "execution_count": null,
      "metadata": {
        "colab": {
          "base_uri": "https://localhost:8080/"
        },
        "id": "cJuspRcFw7Z7",
        "outputId": "2da62ac6-7c88-4dcd-cdf8-2e13c3b3524d"
      },
      "outputs": [
        {
          "output_type": "stream",
          "name": "stdout",
          "text": [
            "Por favor, ingresa la fecha escrita: hoy\n",
            "2023-10-18\n"
          ]
        }
      ],
      "source": [
        "import datetime\n",
        "\n",
        "def fechas():\n",
        "    dias_dic = {\n",
        "    'uno': \"01\", 'dos': \"02\", 'tres': \"03\", 'cuatro': \"04\", 'cinco': \"05\",\n",
        "    'seis': \"06\", 'siete': \"07\", 'ocho': \"08\", 'nueve': \"09\", 'diez': \"10\",\n",
        "    'once': \"11\", 'doce': \"12\", 'trece': \"13\", 'catorce': \"14\", 'quince': \"15\",\n",
        "    'dieciséis': \"16\", 'diecisiete': \"17\", 'dieciocho': \"18\", 'diecinueve': \"19\", 'veinte': \"20\",\n",
        "    'veintiuno': \"21\", 'veintidós': \"22\", 'veintitrés': \"23\", 'veinticuatro': \"24\", 'veinticinco': \"25\",\n",
        "    'veintiséis': \"26\", 'veintisiete': \"27\", 'veintiocho': \"28\", 'veintinueve': \"29\", 'treinta': \"30\", 'treinta y uno': \"31\"\n",
        "    }\n",
        "\n",
        "    meses_dic = {\n",
        "        'enero': \"01\", 'febrero': \"02\", 'marzo': \"03\", 'abril': \"04\", 'mayo': \"05\",\n",
        "        'junio': \"06\", 'julio': \"07\", 'agosto': \"08\", 'septiembre': \"09\", 'octubre': \"10\",\n",
        "        'noviembre': \"11\", 'diciembre': \"12\"\n",
        "        }\n",
        "\n",
        "    anios_dict = {\n",
        "    \"dos mil diecinueve\": 2019, \"dos mil veinte\": 2020,\n",
        "    \"dos mil veintiuno\": 2021, \"dos mil veintidos\": 2022, \"dos mil veintitres\": 2023\n",
        "    }\n",
        "\n",
        "    string = input(\"Por favor, ingresa la fecha escrita: \").lower()  # Convertir la entrada a minúsculas\n",
        "    palabras = string.split()\n",
        "\n",
        "    # Comprobar si la entrada es \"hoy\", \"ayer\" o \"mañana\"\n",
        "    if palabras[0] == \"hoy\":\n",
        "        fecha_formateada = datetime.date.today()\n",
        "    elif palabras[0] == \"ayer\":\n",
        "        fecha_formateada = datetime.date.today() - datetime.timedelta(days=1)\n",
        "    elif palabras[0] == \"mañana\":\n",
        "        fecha_formateada = datetime.date.today() + datetime.timedelta(days=1)\n",
        "    else:\n",
        "        # Comprobar si la entrada tiene el año o no\n",
        "        # Comprobar si la entrada tiene el año o no\n",
        "        if len(palabras) >= 5 and palabras[-2] == \"mil\":\n",
        "            # Si hay un año en la entrada\n",
        "            dia = dias_dic.get(\" \".join(palabras[:3]), dias_dic[palabras[0]])\n",
        "            mes_position = next((i for i, palabra in enumerate(palabras) if palabra in meses_dic), None)\n",
        "            mes = meses_dic[palabras[mes_position]]\n",
        "            anio = anios_dict[\" \".join(palabras[mes_position + 2:])]\n",
        "        else:\n",
        "            # Si no hay un año en la entrada, tomar el año actual del sistema\n",
        "            dia = dias_dic.get(\" \".join(palabras[:3]), dias_dic[palabras[0]])\n",
        "            mes_position = next((i for i, palabra in enumerate(palabras) if palabra in meses_dic), None)\n",
        "            mes = meses_dic[palabras[mes_position]]\n",
        "            anio = datetime.date.today().year\n",
        "\n",
        "        fecha_formateada = f\"{anio}-{mes}-{dia}\"\n",
        "\n",
        "    return fecha_formateada\n",
        "\n",
        "# Ejemplo de uso\n",
        "print(fechas())"
      ]
    }
  ]
}